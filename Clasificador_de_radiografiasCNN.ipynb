{
  "nbformat": 4,
  "nbformat_minor": 0,
  "metadata": {
    "colab": {
      "name": "Clasificador_de_radiografiasCNN.ipynb",
      "provenance": [],
      "toc_visible": true
    },
    "kernelspec": {
      "name": "python3",
      "display_name": "Python 3"
    },
    "accelerator": "GPU"
  },
  "cells": [
    {
      "cell_type": "markdown",
      "metadata": {
        "id": "fAWA_TFlERtI"
      },
      "source": [
        "##Clasificación De radiografias de Neumonia \r\n",
        "\r\n",
        "Vamos a crear una red neuronal que nos ayude a clasificar radiografias de personas con neumonia, y personas que no tienen neumonia. \r\n",
        "\r\n",
        "Pirmero importamos las paqueterías que utilizaremos"
      ]
    },
    {
      "cell_type": "code",
      "metadata": {
        "colab": {
          "base_uri": "https://localhost:8080/"
        },
        "id": "lsdDGobz7QLW",
        "outputId": "cb235363-96e5-4c65-cecb-ef24ccfee475"
      },
      "source": [
        "from __future__ import absolute_import, division, print_function, unicode_literals\r\n",
        "#esta paquetería se utiliza para que la escrituran el python2 u otras versiones\r\n",
        "#sean validas\r\n",
        "import pandas as pd\r\n",
        "#Manejo de datos\r\n",
        "\r\n",
        "import tensorflow as tf\r\n",
        "from tensorflow.keras import datasets,layers,models\r\n",
        "#Tensor flow y keras se importan para crear y entrenar la red neuronal\r\n",
        "\r\n",
        "import matplotlib.pyplot as plt\r\n",
        "#paquetería que nos ayudará a graficar algunos resultados\r\n",
        "\r\n",
        "import numpy as np # Manejo de arreglos y funciones matemáticas numericacas\r\n",
        "import os # Manejo de carpetas y archivos para ingresar nuestra data\r\n",
        "\r\n",
        "from tqdm import tqdm\r\n",
        "#La paquetería tqdm nos ayuda a visualizar una barra de carga de las imagenes\r\n",
        "\r\n",
        "import cv2 #Nos ayudará a escalar imagenes si es necesario\r\n",
        "from glob import glob\r\n",
        "\r\n",
        "#estas paqueterias nos ayudaran a transformar la imagen \r\n",
        "import sklearn\r\n",
        "import skimage\r\n",
        "from skimage.transform import resize\r\n",
        "\r\n",
        "#convierte las imagenes a cala de grises\r\n",
        "from skimage.color import rgb2gray\r\n",
        "\r\n",
        "#Nos ayudaran a observar sobre ajuste y un ajuste bajo.\r\n",
        "import random\r\n",
        "from imblearn.over_sampling import RandomOverSampler\r\n",
        "from imblearn.under_sampling import RandomUnderSampler\r\n",
        "#D"
      ],
      "execution_count": null,
      "outputs": [
        {
          "output_type": "stream",
          "text": [
            "/usr/local/lib/python3.6/dist-packages/sklearn/externals/six.py:31: FutureWarning: The module is deprecated in version 0.21 and will be removed in version 0.23 since we've dropped support for Python 2.7. Please rely on the official version of six (https://pypi.org/project/six/).\n",
            "  \"(https://pypi.org/project/six/).\", FutureWarning)\n",
            "/usr/local/lib/python3.6/dist-packages/sklearn/utils/deprecation.py:144: FutureWarning: The sklearn.neighbors.base module is  deprecated in version 0.22 and will be removed in version 0.24. The corresponding classes / functions should instead be imported from sklearn.neighbors. Anything that cannot be imported from sklearn.neighbors is now part of the private API.\n",
            "  warnings.warn(message, FutureWarning)\n"
          ],
          "name": "stderr"
        }
      ]
    },
    {
      "cell_type": "markdown",
      "metadata": {
        "id": "nZqaI9kbJw9f"
      },
      "source": [
        "Modificamos un poco el ejemplo para cargar los datos, de forma que, no sea necesario volver a cargar las imagenes cada vez que querramos ejecutar el código.\r\n",
        "\r\n",
        "Para esto creamos la funcion \r\n",
        "\r\n",
        "```\r\n",
        "def get_data(folder):\r\n",
        "```\r\n",
        "Cuando el valor de Load_images=True, entonces cargará las imagenes desde la ruta\r\n",
        "de la carpeta chest_xray, y guardará las imagenes en forma de np.array en un \r\n",
        "archivo, donde se especifique la ruta, con el fin, de que no sea necesario\r\n",
        "volver a cargar las imagenes, sino, solo las imagenes en forma de array.\r\n"
      ]
    },
    {
      "cell_type": "code",
      "metadata": {
        "colab": {
          "base_uri": "https://localhost:8080/"
        },
        "id": "wAmc0p_lABjG",
        "outputId": "f4378a10-cd8b-459d-868a-d1394bb397cb"
      },
      "source": [
        "#Amesh\r\n",
        "#especificamos la ruta de la carpeta chest_xray que contiene el dataset de las\r\n",
        "#imagenes que necesitamos.\r\n",
        "train_dir='/content/drive/MyDrive/Analitica_de_datos/chest_xray/train'\r\n",
        "test_dir='/content/drive/MyDrive/Analitica_de_datos/chest_xray/test'\r\n",
        "\r\n",
        "Load_images=False # cambia por True si quieres cargar las imagenes\r\n",
        "\r\n",
        "#creamos la función get_data\r\n",
        "def get_data(folder):\r\n",
        "  x=[]\r\n",
        "  y=[]\r\n",
        "  for folderName in os.listdir(folder):\r\n",
        "    if not folderName.startswith('.'):\r\n",
        "      if folderName in ['NORMAL']:\r\n",
        "        label=0\r\n",
        "      elif folderName in ['PNEUMONIA']:\r\n",
        "        label=1\r\n",
        "      else:\r\n",
        "        label=2\r\n",
        "      for image_filename in tqdm(os.listdir(folder+'/'+folderName)):\r\n",
        "        img_file=cv2.imread(folder+'/'+folderName+'/'+image_filename)\r\n",
        "        if img_file is not None:\r\n",
        "          #normalizamos las imagenes a (150x150) (con tre colores)\r\n",
        "          img_file=skimage.transform.resize(img_file,(150,150,3),mode='constant',\r\n",
        "                                            anti_aliasing=True)\r\n",
        "          img_file=rgb2gray(img_file) #cambiamos las imagenes a escala de grises\r\n",
        "          #es decir ahora tienen dimensiín (150,150)\r\n",
        "          img_arr=np.asarray(img_file)\r\n",
        "          x.append(img_arr)\r\n",
        "          y.append(label)\r\n",
        "  x=np.asarray(x)\r\n",
        "  y=np.asarray(y)\r\n",
        "  return x,y\r\n",
        "\r\n",
        "if Load_images:\r\n",
        "  x_train,y_train=get_data(train_dir)\r\n",
        "  x_test,y_test=get_data(test_dir)\r\n",
        "  #Grabamos los arrays\r\n",
        "  np.save('/content/drive/MyDrive/Analitica_de_datos/imagenes_array_xray/x_train.npy',x_train)\r\n",
        "  np.save('/content/drive/MyDrive/Analitica_de_datos/imagenes_array_xray/y_train.npy',y_train)\r\n",
        "  np.save('/content/drive/MyDrive/Analitica_de_datos/imagenes_array_xray/x_test.npy',x_test)\r\n",
        "  np.save('/content/drive/MyDrive/Analitica_de_datos/imagenes_array_xray/y_test.npy',y_test)\r\n",
        "  print('carga exitosa')\r\n",
        "else:\r\n",
        "  x_train=np.load('/content/drive/MyDrive/Analitica_de_datos/imagenes_array_xray/x_train.npy')\r\n",
        "  y_train=np.load('/content/drive/MyDrive/Analitica_de_datos/imagenes_array_xray/y_train.npy')\r\n",
        "  x_test=np.load('/content/drive/MyDrive/Analitica_de_datos/imagenes_array_xray/x_test.npy')\r\n",
        "  y_test=np.load('/content/drive/MyDrive/Analitica_de_datos/imagenes_array_xray/y_test.npy')\r\n",
        "  print('carga exitosa')\r\n"
      ],
      "execution_count": null,
      "outputs": [
        {
          "output_type": "stream",
          "text": [
            "carga exitosa\n"
          ],
          "name": "stdout"
        }
      ]
    },
    {
      "cell_type": "markdown",
      "metadata": {
        "id": "CGPArnmdXXLw"
      },
      "source": [
        "#Exploramos los datos\r\n",
        "Vamos a explorar las imagenes que tenemos, por medio de graficas, y ver los valores que se pueden presentar en el ejercicio. "
      ]
    },
    {
      "cell_type": "code",
      "metadata": {
        "colab": {
          "base_uri": "https://localhost:8080/",
          "height": 391
        },
        "id": "9Tp9jP3mAFgR",
        "outputId": "df1912bd-e2fd-4f1f-dee1-c46d16f476d3"
      },
      "source": [
        "def plotHistogram(a):\r\n",
        "  plt.figure(figsize=(12,6))\r\n",
        "  plt.subplot(1,2,1)\r\n",
        "  plt.hist(a.ravel(),bins=255)\r\n",
        "  plt.subplot(1,2,2)\r\n",
        "  plt.imshow(a,cmap='gray',vmin=0,vmax=1)\r\n",
        "\r\n",
        "plotHistogram(x_train[5])\r\n",
        "print(y_train[5])"
      ],
      "execution_count": null,
      "outputs": [
        {
          "output_type": "stream",
          "text": [
            "1\n"
          ],
          "name": "stdout"
        },
        {
          "output_type": "display_data",
          "data": {
            "image/png": "[encoded data removed]",
            "text/plain": [
              "<Figure size 864x432 with 2 Axes>"
            ]
          },
          "metadata": {
            "tags": [],
            "needs_background": "light"
          }
        }
      ]
    },
    {
      "cell_type": "markdown",
      "metadata": {
        "id": "lSZKcZgspGz0"
      },
      "source": [
        "Podemos visualizar con ayuda de matplotlib un histograma de las imagenes, para ver la cantidad de pixeles de ciertos colores. En el eje y visualizamos la cantidad de pixeles y en el x de menor a mayor se ve de oscuro a claro respectivamente. "
      ]
    },
    {
      "cell_type": "code",
      "metadata": {
        "colab": {
          "base_uri": "https://localhost:8080/",
          "height": 353
        },
        "id": "eFNSebXzAImr",
        "outputId": "fd5bd7e0-b031-456f-ebdf-c0cfbea60aef"
      },
      "source": [
        "import seaborn as sns\r\n",
        "\r\n",
        "plt.figure(figsize=(8,4))\r\n",
        "map_characters={0:'No neumonía',1:'Con Neumonía'}\r\n",
        "dict_character=map_characters\r\n",
        "\r\n",
        "df=pd.DataFrame()\r\n",
        "df['labels']=y_train\r\n",
        "lab=df['labels']\r\n",
        "dist=lab.value_counts()\r\n",
        "sns.countplot(lab)\r\n",
        "print(dict_character)"
      ],
      "execution_count": null,
      "outputs": [
        {
          "output_type": "stream",
          "text": [
            "/usr/local/lib/python3.6/dist-packages/seaborn/_decorators.py:43: FutureWarning: Pass the following variable as a keyword arg: x. From version 0.12, the only valid positional argument will be `data`, and passing other arguments without an explicit keyword will result in an error or misinterpretation.\n",
            "  FutureWarning\n"
          ],
          "name": "stderr"
        },
        {
          "output_type": "stream",
          "text": [
            "{0: 'No neumonía', 1: 'Con Neumonía'}\n"
          ],
          "name": "stdout"
        },
        {
          "output_type": "display_data",
          "data": {
            "image/png": "[encoded data removed]",
            "text/plain": [
              "<Figure size 576x288 with 1 Axes>"
            ]
          },
          "metadata": {
            "tags": [],
            "needs_background": "light"
          }
        }
      ]
    },
    {
      "cell_type": "markdown",
      "metadata": {
        "id": "XqVF89uLpf82"
      },
      "source": [
        "También podemos visualizar cuantos datos hay de personas con neumonía y de personas sin neumonia, y nos damos cuenta que son la misma cantidad. "
      ]
    },
    {
      "cell_type": "markdown",
      "metadata": {
        "id": "8aVXs4nobxEu"
      },
      "source": [
        "#Processamiento de datos\r\n",
        "Vamos a normalizar un poco los datos, ya que en el preprocesamiento de datos (al cargar los datos) convertimos las images en escala de grises, se han perdido los 3 canales RGB de colores, que traía la imagen. Devolvemos un canal\r\n",
        "con el fin de que no se pierda por completo la información de los colores"
      ]
    },
    {
      "cell_type": "code",
      "metadata": {
        "colab": {
          "base_uri": "https://localhost:8080/"
        },
        "id": "qdGGNv7XAOA0",
        "outputId": "f23260dc-7e6b-4dab-a351-f11da0e593f0"
      },
      "source": [
        "x_trainreshaoped=x_train.reshape(len(x_train),150,150,1)\r\n",
        "x_testreshaoped=x_test.reshape(len(x_test),150,150,1)\r\n",
        "x_trainreshaoped.shape"
      ],
      "execution_count": null,
      "outputs": [
        {
          "output_type": "execute_result",
          "data": {
            "text/plain": [
              "(2682, 150, 150, 1)"
            ]
          },
          "metadata": {
            "tags": []
          },
          "execution_count": 5
        }
      ]
    },
    {
      "cell_type": "markdown",
      "metadata": {
        "id": "tyXzsW8EcE5J"
      },
      "source": [
        "#Creación del modelo y red neuronal\r\n",
        "Crearemos un modelo secuencial de neuronas, se utilizará redes convolucionales\r\n",
        "que son mas recomendadas para el análisis de imagen, a cada capa exceptuando la \r\n",
        "última, se le aplicará, una función de activación 'relu' y en la capa de salida\r\n",
        "se aplicará una función 'softmax', que teoricamente ayudaría al modelo en su última capa de una manera efectiva, para curvar la linea de aprendizaje. "
      ]
    },
    {
      "cell_type": "code",
      "metadata": {
        "colab": {
          "base_uri": "https://localhost:8080/"
        },
        "id": "YFzRa8teAYyn",
        "outputId": "81af0a2d-d162-4464-97cd-2a6f5d9918b5"
      },
      "source": [
        "model=models.Sequential()\r\n",
        "model.add(layers.Conv2D(64,(3,3),activation='relu',input_shape=(150,150,1)))\r\n",
        "#se crea una capa input, que recibirá una entrada de imagenes de (150,150,1)\r\n",
        "#y en seguida, aparecerá una capa con 64 neuronas con función de activación 'relu\r\n",
        "#el parámitro strides=(3,3) especifica los pasos de la convolución a lo largo y ancho\r\n",
        "#de la imagen, es decir la lectura en linea de la imagen.\r\n",
        "\r\n",
        "model.add(layers.MaxPool2D((2,2)))\r\n",
        "#ahora se aplica una capa que reducirá el tamaño de la imagen (150,150) a (75,75)\r\n",
        "#con el fin de conservar las caracteristicas'únicas' de la imagen y repetir el proceso\r\n",
        "\r\n",
        "model.add(layers.Conv2D(64,(3,3),activation='relu'))\r\n",
        "#aplicamos nuevamente una capa convolucional de 64 neuronas con activación 'relu'\r\n",
        "model.add(layers.MaxPool2D((2,2)))\r\n",
        "#se vuelve a dividir el tamaño de la imagen de (75,75) a (37,37)\r\n",
        "model.add(layers.Conv2D(64,(3,3),activation='relu'))\r\n",
        "#se aplica otra capa con 64 neuronas de red convolucional\r\n",
        "\r\n",
        "model.add(layers.Flatten())\r\n",
        "#se aplica una capa que convierte los elementos de la matriz de imagenes a \r\n",
        "#un array plano\r\n",
        "\r\n",
        "model.add(layers.Dense(64,activation='relu'))\r\n",
        "#ahora aplicamos una capa de red neuronal 'normal' con 64 neuronas y fa 'relu'\r\n",
        "\r\n",
        "model.add(layers.Dense(2,activation='softmax'))\r\n",
        "#por último aplicamos la capa output, que tendra que darnos dos valores \r\n",
        "#0 o 1 (neomonia o no neomonia) con lo cual es necesario solo 2 neuronas de una\r\n",
        "#red neuronal normal. Y le aplicamos la función softmax que teoricamente ayudaria\r\n",
        "#a curvar las regresiones realizadas\r\n",
        "\r\n",
        "model.summary()\r\n",
        "#revisamos la creación de la red"
      ],
      "execution_count": null,
      "outputs": [
        {
          "output_type": "stream",
          "text": [
            "Model: \"sequential\"\n",
            "_________________________________________________________________\n",
            "Layer (type)                 Output Shape              Param #   \n",
            "=================================================================\n",
            "conv2d (Conv2D)              (None, 148, 148, 64)      640       \n",
            "_________________________________________________________________\n",
            "max_pooling2d (MaxPooling2D) (None, 74, 74, 64)        0         \n",
            "_________________________________________________________________\n",
            "conv2d_1 (Conv2D)            (None, 72, 72, 64)        36928     \n",
            "_________________________________________________________________\n",
            "max_pooling2d_1 (MaxPooling2 (None, 36, 36, 64)        0         \n",
            "_________________________________________________________________\n",
            "conv2d_2 (Conv2D)            (None, 34, 34, 64)        36928     \n",
            "_________________________________________________________________\n",
            "flatten (Flatten)            (None, 73984)             0         \n",
            "_________________________________________________________________\n",
            "dense (Dense)                (None, 64)                4735040   \n",
            "_________________________________________________________________\n",
            "dense_1 (Dense)              (None, 2)                 130       \n",
            "=================================================================\n",
            "Total params: 4,809,666\n",
            "Trainable params: 4,809,666\n",
            "Non-trainable params: 0\n",
            "_________________________________________________________________\n"
          ],
          "name": "stdout"
        }
      ]
    },
    {
      "cell_type": "markdown",
      "metadata": {
        "id": "NrWBhJkSjH8K"
      },
      "source": [
        "#compilación y entrenamiento del modelo\r\n",
        "Antes de entrenar el modelo, debemos compilarlo con ciertos parámetros para que \r\n",
        "mi modelo tome los rates de aprendizaje, los valores de perdida, y la medida\r\n",
        "de lo que quiero precisar."
      ]
    },
    {
      "cell_type": "code",
      "metadata": {
        "id": "VmlN8MI4AcBp"
      },
      "source": [
        "model.compile(optimizer='adam',\r\n",
        "              loss='sparse_categorical_crossentropy',\r\n",
        "              metrics=['accuracy'])\r\n"
      ],
      "execution_count": null,
      "outputs": []
    },
    {
      "cell_type": "markdown",
      "metadata": {
        "id": "v8lXRWoQj_6P"
      },
      "source": [
        "'adam' es un optimizador por defecto de la paquetería queras, sus valores por defecto son \r\n",
        "```\r\n",
        "tf.keras.optimizers.Adam(\r\n",
        "    learning_rate=0.001,\r\n",
        "    beta_1=0.9,\r\n",
        "    beta_2=0.999,\r\n",
        "    epsilon=1e-07,\r\n",
        "    amsgrad=False,\r\n",
        "    name=\"Adam\",\r\n",
        "    **kwargs\r\n",
        ")\r\n",
        "```\r\n",
        "existen otros optimizers como 'adagrad', 'SGD', cuyos parámetros se acomodan mejor a ciertos data sets. En este ejemplo el recomendado es 'Adam'.\r\n",
        "\r\n",
        "\r\n"
      ]
    },
    {
      "cell_type": "markdown",
      "metadata": {
        "id": "qEokDOJpk5xe"
      },
      "source": [
        "Ahora vamos a entrenar nuestro modelo, y a la par, ir validando la 'accuracy' (precisión) real del modelo respecto a los datos de entrenamiento. "
      ]
    },
    {
      "cell_type": "code",
      "metadata": {
        "colab": {
          "base_uri": "https://localhost:8080/"
        },
        "id": "Vp4VHS0LjBkY",
        "outputId": "075b73fb-5dfb-4fc9-f67e-e5659aaa26c4"
      },
      "source": [
        "model.fit(x_trainreshaoped,y_train,\r\n",
        "          epochs=4,\r\n",
        "          validation_data=(x_testreshaoped,y_test))"
      ],
      "execution_count": null,
      "outputs": [
        {
          "output_type": "stream",
          "text": [
            "Epoch 1/4\n",
            "84/84 [==============================] - 11s 41ms/step - loss: 0.7378 - accuracy: 0.6734 - val_loss: 0.3204 - val_accuracy: 0.8590\n",
            "Epoch 2/4\n",
            "84/84 [==============================] - 3s 33ms/step - loss: 0.1707 - accuracy: 0.9349 - val_loss: 0.5520 - val_accuracy: 0.8013\n",
            "Epoch 3/4\n",
            "84/84 [==============================] - 3s 33ms/step - loss: 0.1569 - accuracy: 0.9383 - val_loss: 0.7719 - val_accuracy: 0.7869\n",
            "Epoch 4/4\n",
            "84/84 [==============================] - 3s 33ms/step - loss: 0.0892 - accuracy: 0.9653 - val_loss: 0.6625 - val_accuracy: 0.7997\n"
          ],
          "name": "stdout"
        },
        {
          "output_type": "execute_result",
          "data": {
            "text/plain": [
              "<tensorflow.python.keras.callbacks.History at 0x7f97f94afe80>"
            ]
          },
          "metadata": {
            "tags": []
          },
          "execution_count": 8
        }
      ]
    },
    {
      "cell_type": "markdown",
      "metadata": {
        "id": "p_jV6cpPmw5Z"
      },
      "source": [
        "#Finalizando el modelo\r\n",
        "ahora, veremos la matriz de confusión y aplicaremos la predicción en las imagenes de prueba (test). "
      ]
    },
    {
      "cell_type": "code",
      "metadata": {
        "colab": {
          "base_uri": "https://localhost:8080/",
          "height": 282
        },
        "id": "3h2uTw02pAGH",
        "outputId": "c0263950-4ae1-41f7-cb7c-52bd9678e9ab"
      },
      "source": [
        "from sklearn.metrics import confusion_matrix #nos ayudará a crear la matriz de confusión\r\n",
        "predict=model.predict(x_testreshaoped)\r\n",
        "predictargmax=np.argmax(predict,axis=1)\r\n",
        "mc=confusion_matrix(y_test,predictargmax)\r\n",
        "sns.heatmap(mc, annot=True)"
      ],
      "execution_count": null,
      "outputs": [
        {
          "output_type": "execute_result",
          "data": {
            "text/plain": [
              "<matplotlib.axes._subplots.AxesSubplot at 0x7f979e6050f0>"
            ]
          },
          "metadata": {
            "tags": []
          },
          "execution_count": 9
        },
        {
          "output_type": "display_data",
          "data": {
            "image/png": "[encoded data removed]",
            "text/plain": [
              "<Figure size 432x288 with 2 Axes>"
            ]
          },
          "metadata": {
            "tags": [],
            "needs_background": "light"
          }
        }
      ]
    },
    {
      "cell_type": "markdown",
      "metadata": {
        "id": "3a81wj3FBCAk"
      },
      "source": [
        "Acá vemos que la predicción de las personas con neomonia es buena, pero las persona normales, tiende a equivocarse. "
      ]
    }
  ]
}